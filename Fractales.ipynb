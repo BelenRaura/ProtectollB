{
 "cells": [
  {
   "cell_type": "markdown",
   "metadata": {},
   "source": [
    "# Fractales en el plano complejo\n",
    "En este proyecto se debe generar los puntos de un fractal similar a los de la siguiente figura. \n",
    "![alt text](assets/image.png)\n",
    "\n",
    "# Descripción\n",
    "El conjunto $F_s \in \mathbb{C}$ está conformado por los puntos $c\in \mathbb{C}$ para los cuales la [ecuación (1)](#1) no diverge. \n",
    "$$\n",
    "z_{(n+1)}=z_n^2+c \tag{1}\n",
    "$$\n",
    "usando la condición inicial $z_0=0$. \n",
    "Itere hasta que:\n",
    "$$\n",
    "|z_n |≥2 \tag{2}\n",
    "$$\n",
    "\n",
    "Asigne un color a cada punto $c$ del plano complejo dependiendo del número de iteraciones requeridas para cumplir con la condición dada. \n"
   ]
  },
  {
   "cell_type": "markdown",
   "metadata": {},
   "source": [
    "# Objetivos del Proyecto\n",
    "+ Calcular los puntos de un fractal:\n",
    "\t* Realizar el cálculo del número de iteraciones para todos los puntos $c \in \mathbb{C}$. \n",
    "\t* Colorear cada punto de acuerdo al número de iteraciones hasta diverger.\n",
    "+ Dominar técnicas de los métodos numéricos para asegurar una alta exactitud.\n",
    "+ Visualizar el fractal resultante.\n"
   ]
  },
  {
   "cell_type": "markdown",
   "metadata": {},
   "source": [
    "# Requerimientos\n",
    "+ Se debe poder hacer zoom interactivamente, y la figura debe redibujarse. \n"
   ]
  },
  {
   "cell_type": "markdown",
   "metadata": {},
   "source": [
    "# Consejos para la implementación\n",
    "+ Cree una cuadrícula de puntos complejos en el plano.\n",
    "+ Para cada punto $c$, itere la secuencia $z_n$ hasta que alcance un límite o diverja.\n",
    "+ Cuente el número de iteraciones antes de la divergencia y asigne un color según este valor.\n",
    "+ Cada píxel en la imagen corresponderá a un punto en la cuadrícula.\n",
    "+ Asigne diferentes colores según el número de iteraciones (se recomienda usar la función $ln$).\n"
   ]
  },
  {
   "cell_type": "markdown",
   "metadata": {},
   "source": [
    "# Experimentación\n",
    "+ Ajuste los parámetros (resolución, límites, colores) para explorar diferentes regiones del fractal. \n",
    "+\tMuestre el resultado en los rangos:\n",
    "\t\n",
    "\t1. $-2.25<x<1.25, -1.5<y<1.5 $\n",
    "\n",
    "\t2. $-1.943,<x<-1.94, -0.0012<y<0.0012 $\n",
    "\n",
    "\t3. $-1.764<x< -1.7527, -0.01925<y<-0.0109 $\n",
    "\n",
    "\t4. $-1.768562608<x<-1.7685626045, -0.000790008<y<-0.000790005 $\n",
    "\n",
    "+ Realice una animación y haga zoom en cada rango dado.\n"
   ]
  }
 ]
}
